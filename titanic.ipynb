{
 "cells": [
  {
   "cell_type": "markdown",
   "metadata": {},
   "source": [
    "# 2. Titanic Disaster"
   ]
  },
  {
   "cell_type": "markdown",
   "metadata": {},
   "source": [
    "## a) Import data set"
   ]
  },
  {
   "cell_type": "code",
   "execution_count": 10,
   "metadata": {},
   "outputs": [],
   "source": [
    "#####---Cornell ECE5414 Assignment 2: Titanic Disaster---######\n",
    "import pandas as pd\n",
    "import matplotlib.pyplot as plt\n",
    "import numpy as np\n",
    "import math\n",
    "from sklearn import preprocessing\n",
    "from sklearn.model_selection import train_test_split\n",
    "from sklearn.model_selection import cross_validate\n",
    "from sklearn.linear_model import LogisticRegression\n",
    "\n",
    "#2.a Import data set\n",
    "titanic_train_file = open(\"/Users/zweedaothaiduy/Dropbox/Document/Study/Cornell Modules/Applied Machine Learning ECE5414/homework-1/titanic/train.csv\")\n",
    "titanic_test_file = open(\"/Users/zweedaothaiduy/Dropbox/Document/Study/Cornell Modules/Applied Machine Learning ECE5414/homework-1/titanic/test.csv\")\n",
    "\n",
    "titanic_train_df = pd.read_csv(titanic_train_file)\n",
    "titanic_test_df = pd.read_csv(titanic_test_file)\n"
   ]
  },
  {
   "cell_type": "markdown",
   "metadata": {},
   "source": [
    "## b) Logistic regression model"
   ]
  },
  {
   "cell_type": "code",
   "execution_count": 13,
   "metadata": {},
   "outputs": [
    {
     "name": "stdout",
     "output_type": "stream",
     "text": [
      "Model accuracy 0.7985074626865671\n"
     ]
    },
    {
     "name": "stderr",
     "output_type": "stream",
     "text": [
      "//anaconda3/lib/python3.7/site-packages/sklearn/linear_model/logistic.py:432: FutureWarning: Default solver will be changed to 'lbfgs' in 0.22. Specify a solver to silence this warning.\n",
      "  FutureWarning)\n"
     ]
    }
   ],
   "source": [
    "#2.b Logistic regression model\n",
    "# create new features & normalize some numerical features\n",
    "def prepare_data(dataframe):\n",
    "    df = dataframe\n",
    "    df['Class_1'] = np.nan\n",
    "    df.loc[df['Pclass']==1,'Class_1'] = 1\n",
    "    df.loc[df['Pclass']!=1,'Class_1'] = 0\n",
    "    df['Class_2'] = np.nan\n",
    "    df.loc[df['Pclass']==2,'Class_2'] = 1\n",
    "    df.loc[df['Pclass']!=2,'Class_2'] = 0\n",
    "    df['Class_3'] = np.nan\n",
    "    df.loc[df['Pclass']==3,'Class_3'] = 1\n",
    "    df.loc[df['Pclass']!=3,'Class_3'] = 0\n",
    "    df['Is_male'] = np.nan\n",
    "    df.loc[df['Sex']=='male','Is_male'] = 1\n",
    "    df.loc[df['Sex']!='male','Is_male'] = 0\n",
    "    df['Is_female'] = np.nan\n",
    "    df.loc[df['Sex']=='female','Is_female'] = 1\n",
    "    df.loc[df['Sex']!='female','Is_female'] = 0\n",
    "    \n",
    "    df['Family_size']=df['SibSp']+df['Parch']\n",
    "    df['Family_size'] = (df['Family_size'] - df['Family_size'].min()) / (df['Family_size'].max() - df['Family_size'].min())\n",
    "    \n",
    "    df.loc[pd.isnull(df['Fare']), 'Fare'] = df['Fare'].mean()\n",
    "    df['Fare_per_person'] = df['Fare']/(df['Family_size']+1)\n",
    "    df['Fare_per_person'] = (df['Fare_per_person'] - df['Fare_per_person'].min()) / (df['Fare_per_person'].max() - df['Fare_per_person'].min())\n",
    "    \n",
    "    df['Embarked_c'] = np.nan\n",
    "    df.loc[df['Embarked']=='C','Embarked_c'] = 1\n",
    "    df.loc[df['Embarked']!='C','Embarked_c'] = 0\n",
    "    df['Embarked_q'] = np.nan\n",
    "    df.loc[df['Embarked']=='Q','Embarked_q'] = 1\n",
    "    df.loc[df['Embarked']!='Q','Embarked_q'] = 0\n",
    "    df['Embarked_s'] = np.nan\n",
    "    df.loc[df['Embarked']=='S','Embarked_s'] = 1\n",
    "    df.loc[df['Embarked']!='S','Embarked_s'] = 0\n",
    "    \n",
    "    df.loc[pd.isnull(df['Age']), 'Age'] = df['Age'].mean()\n",
    "    df['Age'] = (df['Age'] - df['Age'].min()) / (df['Age'].max() - df['Age'].min())\n",
    "\n",
    "    return df\n",
    "\n",
    "train_df = prepare_data(titanic_train_df)\n",
    "\n",
    "# create data & target sets\n",
    "train_data = train_df[['Class_1','Class_2','Class_3','Is_male','Is_female','Family_size',\n",
    "              'Fare_per_person','Embarked_c','Embarked_q','Embarked_s','Age']]\n",
    "train_target = train_df['Survived']\n",
    "x_train, x_test, y_train, y_test = train_test_split(train_data, train_target, test_size=0.3, random_state=0)\n",
    "\n",
    "# logistic regression model\n",
    "logReg = LogisticRegression()\n",
    "logReg.fit(x_train, y_train)\n",
    "print(\"Model accuracy: \",logReg.score(x_test, y_test))"
   ]
  },
  {
   "cell_type": "code",
   "execution_count": 8,
   "metadata": {},
   "outputs": [
    {
     "name": "stdout",
     "output_type": "stream",
     "text": [
      "{'fit_time': array([0.00312495, 0.00267506, 0.0035193 ]), 'score_time': array([0.00120115, 0.0009439 , 0.00124598]), 'test_score': array([0.78787879, 0.79461279, 0.79124579])}\n"
     ]
    },
    {
     "name": "stderr",
     "output_type": "stream",
     "text": [
      "//anaconda3/lib/python3.7/site-packages/sklearn/linear_model/logistic.py:432: FutureWarning: Default solver will be changed to 'lbfgs' in 0.22. Specify a solver to silence this warning.\n",
      "  FutureWarning)\n",
      "//anaconda3/lib/python3.7/site-packages/sklearn/linear_model/logistic.py:432: FutureWarning: Default solver will be changed to 'lbfgs' in 0.22. Specify a solver to silence this warning.\n",
      "  FutureWarning)\n",
      "//anaconda3/lib/python3.7/site-packages/sklearn/linear_model/logistic.py:432: FutureWarning: Default solver will be changed to 'lbfgs' in 0.22. Specify a solver to silence this warning.\n",
      "  FutureWarning)\n"
     ]
    }
   ],
   "source": [
    "#cross validation\n",
    "cv_results = cross_validate(logReg, train_data, train_target, cv=3)\n",
    "print(cv_results)"
   ]
  },
  {
   "cell_type": "code",
   "execution_count": 11,
   "metadata": {},
   "outputs": [],
   "source": [
    "# predict\n",
    "test_df = prepare_data(titanic_test_df)\n",
    "test_data = test_df[['Class_1','Class_2','Class_3','Is_male','Is_female','Family_size',\n",
    "              'Fare_per_person','Embarked_c','Embarked_q','Embarked_s','Age']]\n",
    "\n",
    "predictions = logReg.predict(test_data)\n",
    "titanic_result_df = titanic_test_df\n",
    "titanic_result_df.insert(1,'Survived',predictions)"
   ]
  },
  {
   "cell_type": "markdown",
   "metadata": {},
   "source": [
    "## c) Kaggle submission"
   ]
  },
  {
   "cell_type": "code",
   "execution_count": null,
   "metadata": {},
   "outputs": [],
   "source": [
    "#2.c Submit Kaggle\n",
    "titanic_submission = titanic_result_df[['PassengerId','Survived']]\n",
    "titanic_submission.to_csv(index=False, header=True, path_or_buf=\"/Users/zweedaothaiduy/Downloads/zwee_titanic.csv\")\n"
   ]
  }
 ],
 "metadata": {
  "kernelspec": {
   "display_name": "Python 3",
   "language": "python",
   "name": "python3"
  },
  "language_info": {
   "codemirror_mode": {
    "name": "ipython",
    "version": 3
   },
   "file_extension": ".py",
   "mimetype": "text/x-python",
   "name": "python",
   "nbconvert_exporter": "python",
   "pygments_lexer": "ipython3",
   "version": "3.7.3"
  }
 },
 "nbformat": 4,
 "nbformat_minor": 2
}
